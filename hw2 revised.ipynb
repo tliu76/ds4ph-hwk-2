{
 "cells": [
  {
   "cell_type": "code",
   "execution_count": 1,
   "id": "18327ab7-06b6-408c-ad0a-7e6221ec9987",
   "metadata": {},
   "outputs": [],
   "source": [
    "##homework 2 Tanxin Liu\n",
    "import numpy as np\n",
    "import pandas as pd\n",
    "import seaborn as sns\n",
    "import matplotlib\n",
    "import matplotlib.pyplot as plt\n"
   ]
  },
  {
   "cell_type": "code",
   "execution_count": 33,
   "id": "d212a841-fc29-44d8-aa7e-455fc927704d",
   "metadata": {},
   "outputs": [
    {
     "name": "stdout",
     "output_type": "stream",
     "text": [
      "Defaulting to user installation because normal site-packages is not writeable\n",
      "Requirement already satisfied: pytest in /opt/tljh/user/lib/python3.9/site-packages (7.0.1)\n",
      "Requirement already satisfied: tomli>=1.0.0 in /opt/tljh/user/lib/python3.9/site-packages (from pytest) (2.0.1)\n",
      "Requirement already satisfied: packaging in /opt/tljh/user/lib/python3.9/site-packages (from pytest) (21.3)\n",
      "Requirement already satisfied: iniconfig in /opt/tljh/user/lib/python3.9/site-packages (from pytest) (1.1.1)\n",
      "Requirement already satisfied: pluggy<2.0,>=0.12 in /opt/tljh/user/lib/python3.9/site-packages (from pytest) (1.0.0)\n",
      "Requirement already satisfied: attrs>=19.2.0 in /opt/tljh/user/lib/python3.9/site-packages (from pytest) (21.4.0)\n",
      "Requirement already satisfied: py>=1.8.2 in /opt/tljh/user/lib/python3.9/site-packages (from pytest) (1.11.0)\n",
      "Requirement already satisfied: pyparsing!=3.0.5,>=2.0.2 in /opt/tljh/user/lib/python3.9/site-packages (from packaging->pytest) (3.0.7)\n",
      "Note: you may need to restart the kernel to use updated packages.\n"
     ]
    }
   ],
   "source": [
    "pip install pytest"
   ]
  },
  {
   "cell_type": "code",
   "execution_count": 2,
   "id": "1ec07e3d-72e1-4855-9ff9-e7e477828314",
   "metadata": {},
   "outputs": [
    {
     "name": "stdin",
     "output_type": "stream",
     "text": [
      "Are you a studious person? \n",
      "Y \n",
      "N \n",
      " N\n",
      "Are you a brave person? \n",
      "Y \n",
      "N \n",
      " N\n",
      "Are you an ambitious person? \n",
      "Y \n",
      "N \n",
      " N\n"
     ]
    },
    {
     "name": "stdout",
     "output_type": "stream",
     "text": [
      "Gryffindor\n"
     ]
    }
   ],
   "source": [
    "#question1\n",
    "gryffindor=0\n",
    "hufflepuff=0\n",
    "slytherin=0\n",
    "\n",
    "q1=input(\"Are you a studious person? \\nY \\nN \\n\") \n",
    "if q1==\"Y\": \n",
    "    slytherin=slytherin+1    \n",
    "elif q1==\"N\": \n",
    "    hufflepuff=hufflepuff+1\n",
    "q2=input(\"Are you a brave person? \\nY \\nN \\n\")\n",
    "if q2==\"Y\": \n",
    "     hufflepuff=hufflepuff+1  \n",
    "elif q2==\"N\": \n",
    "    gryffindor=gryffindor+1\n",
    "q3=input(\"Are you an ambitious person? \\nY \\nN \\n\")\n",
    "if q3==\"Y\": \n",
    "      slytherin=slytherin+1     \n",
    "elif q3==\"N\": \n",
    "    gryffindor=gryffindor+1\n",
    "    \n",
    "\n",
    "if gryffindor ==2:\n",
    "    print(\"Gryffindor\")\n",
    "elif hufflepuff ==2:\n",
    "    print(\"Hufflepuff\")\n",
    "elif slytherin ==2:\n",
    "    print(\"Slytherin\")\n",
    "else:\n",
    "    print(\"Sorry, I don't understand that answer.\")\n",
    "\n",
    "   "
   ]
  },
  {
   "cell_type": "markdown",
   "id": "abca5edb-4078-4686-8e18-a2bbbb60aefc",
   "metadata": {},
   "source": [
    "Another way:"
   ]
  },
  {
   "cell_type": "code",
   "execution_count": 1,
   "id": "ebe0400a-25fc-4867-bd1e-3a3a6f4e0214",
   "metadata": {},
   "outputs": [],
   "source": [
    "import numpy as np\n",
    "from numpy.random import uniform as runif\n",
    "def hogwartsHouse():\n",
    "    g, s, r, h = 0, 0, 0, 0\n",
    "    x = input(\"Are you brave\")\n",
    "    if (x==\"y\"): g+=1\n",
    "    x = input(\"Are you cunning\")\n",
    "    if (x==\"y\"): s+=1\n",
    "    x = input(\"Are you loyal\")\n",
    "    if (x==\"y\"): h+=1\n",
    "    x = input(\"Are you smart\")\n",
    "    if (x==\"y\"): r+=1\n",
    "    jitter = runif(0, .1, 4)\n",
    "    house  = np.array([g, s, r, h] + jitter)\n",
    "    return ([\"Griff\", \"Slyth\", \"Rav\",\"Huff\"][house.argmax()])\n",
    "    "
   ]
  },
  {
   "cell_type": "code",
   "execution_count": 2,
   "id": "f2764831-3719-4523-a3ff-fa2b793a9a9e",
   "metadata": {},
   "outputs": [
    {
     "name": "stdin",
     "output_type": "stream",
     "text": [
      "Are you brave Y\n",
      "Are you cunning N\n",
      "Are you loyal N\n",
      "Are you smart N\n"
     ]
    },
    {
     "data": {
      "text/plain": [
       "'Griff'"
      ]
     },
     "execution_count": 2,
     "metadata": {},
     "output_type": "execute_result"
    }
   ],
   "source": [
    "hogwartsHouse()"
   ]
  },
  {
   "cell_type": "markdown",
   "id": "3f3fbc7b-11c5-46cb-a16d-d30e74a9cfbb",
   "metadata": {},
   "source": [
    "question 2"
   ]
  },
  {
   "cell_type": "code",
   "execution_count": 8,
   "id": "28238453-9110-4607-8a91-5d35eeca23bc",
   "metadata": {},
   "outputs": [],
   "source": [
    "##question 2 need class \n",
    "\n",
    "\n",
    "class statlist:\n",
    "    def __init__(self, mydata):\n",
    "        self.value = mydata\n",
    "        \n",
    "    def mean(self):\n",
    "        return (np.mean(self.value))\n",
    "    def median(self):\n",
    "        return (np.median(self.value))\n",
    "    def sd(self):\n",
    "        return (np.std(self.value))\n",
    "    def print (self):\n",
    "        return (self.value)       \n",
    "    \n",
    "\n",
    "    "
   ]
  },
  {
   "cell_type": "code",
   "execution_count": 9,
   "id": "5957a207-353b-4163-8019-2d1aa50a183e",
   "metadata": {},
   "outputs": [
    {
     "name": "stdout",
     "output_type": "stream",
     "text": [
      "0.5610665916368325\n",
      "0.2803069759994687\n",
      "0.6025721596482175\n"
     ]
    }
   ],
   "source": [
    "test = statlist(np.random.uniform(0,1,10).tolist())\n",
    "print(test.mean())\n",
    "print(test.sd())\n",
    "print(test.median())"
   ]
  },
  {
   "cell_type": "markdown",
   "id": "c269412a-e749-4026-9c3e-e9eabab2ac27",
   "metadata": {},
   "source": [
    "Question 3"
   ]
  },
  {
   "cell_type": "code",
   "execution_count": 6,
   "id": "63d8731b-93ef-429c-b5c7-ee911a53a223",
   "metadata": {},
   "outputs": [
    {
     "name": "stdout",
     "output_type": "stream",
     "text": [
      "[1 6 8 4]\n",
      "[nan  1.  6.  8.]\n",
      "[nan nan  1.  6.]\n",
      "[nan nan nan  1.]\n",
      "[nan nan nan nan]\n",
      "[nan nan nan nan]\n"
     ]
    }
   ],
   "source": [
    "##question3\n",
    "import numpy as np\n",
    "def lag(a, i):\n",
    "    if i>=0 and i<len(a)+1:\n",
    "        return np.r_[np.full(i, np.nan), a[:-i]]\n",
    "    elif i<0 and i>=len(a)+1:\n",
    "        return np.r_[a[-i:],np.full(-i, np.nan)] \n",
    "    else:\n",
    "        return np.full(len(a), np.nan)\n",
    "a=np.array([1,6,8,4])\n",
    "\n",
    "print(a)\n",
    "print(lag(a,1))\n",
    "print(lag(a,2))\n",
    "print(lag(a,3))\n",
    "print(lag(a,4))\n",
    "print(lag(a,5))"
   ]
  },
  {
   "cell_type": "markdown",
   "id": "1e635cc0-1026-49b7-8a7e-573df7f464eb",
   "metadata": {},
   "source": [
    "QUESTION 3: another way"
   ]
  },
  {
   "cell_type": "code",
   "execution_count": 8,
   "id": "cca04ddc-796b-4ca4-9352-71e4d990cd96",
   "metadata": {},
   "outputs": [
    {
     "name": "stdout",
     "output_type": "stream",
     "text": [
      "[1 6 8 4]\n",
      "[nan  1.  6.  8.]\n",
      "[nan nan  1.  6.]\n",
      "[nan nan nan  1.]\n",
      "[nan nan nan nan]\n"
     ]
    }
   ],
   "source": [
    "##question 3 another way:\n",
    "\n",
    "def lag(a, i):\n",
    "    if i >= 0:\n",
    "        return np.concatenate((np.full(i, np.nan), a[:-i]))\n",
    "    elif i<0 and i>=len(a)+1:\n",
    "        return np.concatenate[a[-i:],np.full(-i, np.nan)] \n",
    "    else:\n",
    "        return np.full(len(a), np.nan)\n",
    "    \n",
    "a=np.array([1,6,8,4])\n",
    "\n",
    "print(a)\n",
    "print(lag(a,1))\n",
    "print(lag(a,2))\n",
    "print(lag(a,3))\n",
    "print(lag(a,4))"
   ]
  },
  {
   "cell_type": "markdown",
   "id": "4e627999-edaa-45cf-9eeb-9aa347bd9dbe",
   "metadata": {},
   "source": [
    "question 4: (return a function)"
   ]
  },
  {
   "cell_type": "code",
   "execution_count": 9,
   "id": "3a72e657-c651-44c9-b48d-6239e4a2dbf5",
   "metadata": {},
   "outputs": [
    {
     "name": "stdout",
     "output_type": "stream",
     "text": [
      "[nan  1.  6.  8.]\n",
      "[nan nan  1.  6.]\n",
      "[nan nan nan  1.]\n"
     ]
    }
   ],
   "source": [
    "##question 4 return a function \n",
    "\n",
    "def LagGenerator(n):\n",
    "    return lambda x:lag(x,n)\n",
    "\n",
    "a = np.array([1,6,8,4])\n",
    "lag_1 =LagGenerator(1)\n",
    "print(lag_1(a))\n",
    "\n",
    "lag_2 =LagGenerator(2)\n",
    "print(lag_2(a))\n",
    "\n",
    "lag_3 =LagGenerator(3)\n",
    "print(lag_3(a))"
   ]
  },
  {
   "cell_type": "code",
   "execution_count": null,
   "id": "da010721-c0f0-4995-b731-c81eb2d7a684",
   "metadata": {},
   "outputs": [],
   "source": []
  },
  {
   "cell_type": "code",
   "execution_count": null,
   "id": "c0dd7664-801d-4537-b078-10d341039fe9",
   "metadata": {},
   "outputs": [],
   "source": []
  }
 ],
 "metadata": {
  "kernelspec": {
   "display_name": "Python 3 (ipykernel)",
   "language": "python",
   "name": "python3"
  },
  "language_info": {
   "codemirror_mode": {
    "name": "ipython",
    "version": 3
   },
   "file_extension": ".py",
   "mimetype": "text/x-python",
   "name": "python",
   "nbconvert_exporter": "python",
   "pygments_lexer": "ipython3",
   "version": "3.9.7"
  }
 },
 "nbformat": 4,
 "nbformat_minor": 5
}
